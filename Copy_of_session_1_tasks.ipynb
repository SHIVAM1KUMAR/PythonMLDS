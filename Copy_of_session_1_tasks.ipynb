{
  "nbformat": 4,
  "nbformat_minor": 0,
  "metadata": {
    "colab": {
      "provenance": [],
      "include_colab_link": true
    },
    "kernelspec": {
      "name": "python3",
      "display_name": "Python 3"
    },
    "language_info": {
      "name": "python"
    }
  },
  "cells": [
    {
      "cell_type": "markdown",
      "metadata": {
        "id": "view-in-github",
        "colab_type": "text"
      },
      "source": [
        "<a href=\"https://colab.research.google.com/github/SHIVAM1KUMAR/PythonMLDS/blob/main/Copy_of_session_1_tasks.ipynb\" target=\"_parent\"><img src=\"https://colab.research.google.com/assets/colab-badge.svg\" alt=\"Open In Colab\"/></a>"
      ]
    },
    {
      "cell_type": "markdown",
      "source": [
        "# Task : Session 1\n",
        "Solve these questions own your own and try to test yourself what you have learned in the session.\n",
        "\n",
        "Happy Learning!"
      ],
      "metadata": {
        "id": "A05OG15VqOPF"
      }
    },
    {
      "cell_type": "markdown",
      "source": [
        "### Q1 :- Print the given strings as per stated format.\n",
        "\n",
        "**Given strings**:\n",
        "```\n",
        "\"Data\" \"Science\" \"Mentorship\" \"Program\"\n",
        "\"By\" \"CampusX\"\n",
        "```\n",
        "**Output**:\n",
        "```\n",
        "Data-Science-Mentorship-Program-started-By-CampusX\n",
        "```\n",
        "\n",
        "Concept- [Seperator and End]"
      ],
      "metadata": {
        "id": "2doIXf8bqe9_"
      }
    },
    {
      "cell_type": "code",
      "source": [
        "# Write your code here\n",
        "print(\"Data\", \"Science\", \"Mentorship\", \"Program\", \"started\", \"By\", \"CampusX\", sep=\"-\")\n"
      ],
      "metadata": {
        "id": "-em6d3KErDtp",
        "colab": {
          "base_uri": "https://localhost:8080/"
        },
        "outputId": "7ef0b016-037d-424a-a72d-8e0c14d01e7a"
      },
      "execution_count": null,
      "outputs": [
        {
          "output_type": "stream",
          "name": "stdout",
          "text": [
            "Data-Science-Mentorship-Program-started-By-CampusX\n"
          ]
        }
      ]
    },
    {
      "cell_type": "markdown",
      "source": [
        "### Q2:- Write a program that will convert celsius value to fahrenheit."
      ],
      "metadata": {
        "id": "1KUpN7ZTrC3_"
      }
    },
    {
      "cell_type": "code",
      "source": [
        "# Write your code here\n",
        "# Function to convert Celsius to Fahrenheit\n",
        "def celsius_to_fahrenheit(celsius):\n",
        "    fahrenheit = (celsius * 9/5) + 32\n",
        "    return fahrenheit\n",
        "\n",
        "# Input from the user\n",
        "celsius_value = float(input(\"Enter temperature in Celsius: \"))\n",
        "\n",
        "# Conversion and output\n",
        "fahrenheit_value = celsius_to_fahrenheit(celsius_value)\n",
        "print(f\"{celsius_value}°C is equal to {fahrenheit_value}°F\")\n"
      ],
      "metadata": {
        "id": "yxKYhYQiqWfj",
        "colab": {
          "base_uri": "https://localhost:8080/"
        },
        "outputId": "a21da38d-fad1-4253-8669-d17ddd738d39"
      },
      "execution_count": null,
      "outputs": [
        {
          "output_type": "stream",
          "name": "stdout",
          "text": [
            "Enter temperature in Celsius: 75\n",
            "75.0°C is equal to 167.0°F\n"
          ]
        }
      ]
    },
    {
      "cell_type": "markdown",
      "source": [
        "### Q3:- Take 2 numbers as input from the user.Write a program to swap the numbers without using any special python syntax."
      ],
      "metadata": {
        "id": "RLrOBBJurLB2"
      }
    },
    {
      "cell_type": "code",
      "source": [
        "\n",
        "#Initial values\n",
        "a = 10\n",
        "b = 20\n",
        "\n",
        "print(\"Before swap a=\",a)\n",
        "print(\"Before swap b=\",b)\n",
        "\n",
        "a=a+b\n",
        "b=a-b\n",
        "a=a-b\n",
        "\n",
        "print(\"After swap a=:\",a)\n",
        "print(\"After swap b=:\",b)\n"
      ],
      "metadata": {
        "id": "yPn7if0TrJ4F",
        "colab": {
          "base_uri": "https://localhost:8080/"
        },
        "outputId": "3e2f7e48-71b1-4eaf-c104-8db7e9e231bf"
      },
      "execution_count": null,
      "outputs": [
        {
          "output_type": "stream",
          "name": "stdout",
          "text": [
            "Before swap a= 10\n",
            "Before swap b= 20\n",
            "After swap a=: 20\n",
            "After swap b=: 10\n"
          ]
        }
      ]
    },
    {
      "cell_type": "markdown",
      "source": [
        "### Q4:- Write a program to find the euclidean distance between two coordinates.Take both the coordinates from the user as input."
      ],
      "metadata": {
        "id": "waLCP1bjr7ML"
      }
    },
    {
      "cell_type": "code",
      "source": [
        "# Write your code here\n",
        "import math\n",
        "\n",
        "# Function to calculate Euclidean distance\n",
        "def euclidean_distance(x1, y1, x2, y2):\n",
        "    distance = math.sqrt((x2 - x1)**2 + (y2 - y1)**2)\n",
        "    return distance\n",
        "\n",
        "# Input from the user\n",
        "x1 = float(input(\"Enter x-coordinate of the first point: \"))\n",
        "y1 = float(input(\"Enter y-coordinate of the first point: \"))\n",
        "x2 = float(input(\"Enter x-coordinate of the second point: \"))\n",
        "y2 = float(input(\"Enter y-coordinate of the second point: \"))\n",
        "\n",
        "# Calculate and display the distance\n",
        "distance = euclidean_distance(x1, y1, x2, y2)\n",
        "print(f\"The Euclidean distance between ({x1}, {y1}) and ({x2}, {y2}) is {distance:.2f}\")\n"
      ],
      "metadata": {
        "id": "Pl1Sv-xnrxnH",
        "colab": {
          "base_uri": "https://localhost:8080/"
        },
        "outputId": "73f3fb05-8969-49c8-c7de-c4c305d98353"
      },
      "execution_count": null,
      "outputs": [
        {
          "output_type": "stream",
          "name": "stdout",
          "text": [
            "Enter x-coordinate of the first point: 20\n",
            "Enter y-coordinate of the first point: 25\n",
            "Enter x-coordinate of the second point: 5\n",
            "Enter y-coordinate of the second point: 20\n",
            "The Euclidean distance between (20.0, 25.0) and (5.0, 20.0) is 15.81\n"
          ]
        }
      ]
    },
    {
      "cell_type": "markdown",
      "source": [
        "### Q5:- Write a program to find the simple interest when the value of principle,rate of interest and time period is provided by the user.\n"
      ],
      "metadata": {
        "id": "VLrhg-FRsHjR"
      }
    },
    {
      "cell_type": "code",
      "source": [
        "# Write your code here\n",
        "p = float(input(\"Enter the principal amount: \"))\n",
        "r = float(input(\"Enter the rate of interest (in %): \"))\n",
        "t = float(input(\"Enter the time period (in years): \"))\n",
        "interest = (p * r * t) / 100\n",
        "print(interest)"
      ],
      "metadata": {
        "id": "s40DlReZsTmY",
        "colab": {
          "base_uri": "https://localhost:8080/"
        },
        "outputId": "d1b0f774-82cb-4f65-b2ef-4de04368141f"
      },
      "execution_count": null,
      "outputs": [
        {
          "output_type": "stream",
          "name": "stdout",
          "text": [
            "Enter the principal amount: 5\n",
            "Enter the rate of interest (in %): 5\n",
            "Enter the time period (in years): 5\n",
            "1.25\n"
          ]
        }
      ]
    },
    {
      "cell_type": "markdown",
      "source": [
        "### Q6:- Write a program that will tell the number of dogs and chicken are there when the user will provide the value of total heads and legs.\n",
        "\n",
        "For example:\n",
        "Input:\n",
        "heads -> 4\n",
        "legs -> 12\n",
        "<br>\n",
        "Output:\n",
        "dogs -> 2\n",
        "chicken -> 2\n",
        "\n",
        "\n",
        "\n"
      ],
      "metadata": {
        "id": "LMy0BTUktYKa"
      }
    },
    {
      "cell_type": "code",
      "source": [
        "# Write your code here\n",
        "# Function to calculate number of chickens and dogs\n",
        "def calculate_animals(heads, legs):\n",
        "    # Solve the system of equations:\n",
        "    # x + y = heads\n",
        "    # 2x + 4y = legs\n",
        "\n",
        "    # Using algebra:\n",
        "    # y = heads - x\n",
        "    # 2x + 4(heads - x) = legs\n",
        "    chickens = (4 * heads - legs) // 2\n",
        "    dogs = heads - chickens\n",
        "\n",
        "    # Return the result\n",
        "    return chickens, dogs\n",
        "\n",
        "# Input from the user\n",
        "total_heads = int(input(\"Enter the total number of heads: \"))\n",
        "total_legs = int(input(\"Enter the total number of legs: \"))\n",
        "\n",
        "# Calculate and display the result\n",
        "chickens, dogs = calculate_animals(total_heads, total_legs)\n",
        "\n",
        "# Output\n",
        "print(f\"Number of chickens: {chickens}\")\n",
        "print(f\"Number of dogs: {dogs}\")\n"
      ],
      "metadata": {
        "id": "XSBvJoA4tXaG",
        "colab": {
          "base_uri": "https://localhost:8080/"
        },
        "outputId": "97bf9df3-4edb-4c0b-8a25-199e4182cf42"
      },
      "execution_count": null,
      "outputs": [
        {
          "output_type": "stream",
          "name": "stdout",
          "text": [
            "Enter the total number of heads: 4\n",
            "Enter the total number of legs: 12\n",
            "Number of chickens: 2\n",
            "Number of dogs: 2\n"
          ]
        }
      ]
    },
    {
      "cell_type": "markdown",
      "source": [
        "### Q7:- Write a program to find the sum of squares of first n natural numbers where n will be provided by the user."
      ],
      "metadata": {
        "id": "gJ7C5kZYt4BP"
      }
    },
    {
      "cell_type": "code",
      "source": [
        "# Write your code here\n",
        "n=int(input(\"Enter no\"))\n",
        "total = 0\n",
        "for i in range(1, n+1):\n",
        "  total  +=  i**2\n",
        "\n",
        "print(f\"sum of fisrt {n} is: {total}\")\n"
      ],
      "metadata": {
        "id": "_tHsmEHzt2nX",
        "colab": {
          "base_uri": "https://localhost:8080/"
        },
        "outputId": "b5ee6468-7666-46eb-843b-712e0fbc5aa3"
      },
      "execution_count": 9,
      "outputs": [
        {
          "output_type": "stream",
          "name": "stdout",
          "text": [
            "Enter no5\n",
            "sum of fisrt 5 is: 55\n"
          ]
        }
      ]
    },
    {
      "cell_type": "markdown",
      "source": [],
      "metadata": {
        "id": "jSvR209JyndE"
      }
    },
    {
      "cell_type": "markdown",
      "source": [
        "### Q8:- Given the first 2 terms of an Arithmetic Series.Find the Nth term of the series. Assume all inputs are provided by the user."
      ],
      "metadata": {
        "id": "FHrMM7g-yG1h"
      }
    },
    {
      "cell_type": "code",
      "source": [
        "# Write your code here\n",
        "A = int(input(\"Enter the first term (A): \"))\n",
        "B = int(input(\"Enter the second term (B): \"))\n",
        "N = int(input(\"Enter the value of N \"))\n",
        "D=B-A\n",
        "Nthterm=A+(N-1)*D\n",
        "print(Nthterm)"
      ],
      "metadata": {
        "id": "go4_kmZmyVSx",
        "colab": {
          "base_uri": "https://localhost:8080/"
        },
        "outputId": "547f9c9a-2c4a-4824-ee30-5bd4f1b9fbc3"
      },
      "execution_count": 10,
      "outputs": [
        {
          "output_type": "stream",
          "name": "stdout",
          "text": [
            "Enter the first term (A): 2\n",
            "Enter the second term (B): 5\n",
            "Enter the value of N 4\n",
            "11\n"
          ]
        }
      ]
    },
    {
      "cell_type": "markdown",
      "source": [
        "### Q9:- Given 2 fractions, find the sum of those 2 fractions.Take the numerator and denominator values of the fractions from the user."
      ],
      "metadata": {
        "id": "QgyRX_es1oum"
      }
    },
    {
      "cell_type": "code",
      "source": [
        "# Write your code here\n",
        "a = int(input(\"Enter the numerator of the first fraction: \"))\n",
        "b = int(input(\"Enter the denominator of the first fraction: \"))\n",
        "c = int(input(\"Enter the numerator of the second fraction: \"))\n",
        "d = int(input(\"Enter the denominator of the second fraction: \"))\n",
        "numerator = a * d + c * b\n",
        "denominator = b * d\n",
        "print(f\"The sum of the fractions is: {numerator}/{denominator}\")"
      ],
      "metadata": {
        "id": "X05xqFS1yW16",
        "colab": {
          "base_uri": "https://localhost:8080/"
        },
        "outputId": "57f548e9-9279-430d-abd4-263801595074"
      },
      "execution_count": 11,
      "outputs": [
        {
          "output_type": "stream",
          "name": "stdout",
          "text": [
            "Enter the numerator of the first fraction: 1\n",
            "Enter the denominator of the first fraction: 2\n",
            "Enter the numerator of the second fraction: 1\n",
            "Enter the denominator of the second fraction: 3\n",
            "The sum of the fractions is: 5/6\n"
          ]
        }
      ]
    },
    {
      "cell_type": "markdown",
      "source": [
        "### Q10:- Given the height, width and breadth of a milk tank, you have to find out how many glasses of milk can be obtained? Assume all the inputs are provided by the user.\n",
        "\n",
        "\n",
        "\n",
        "Input:<br>\n",
        "Dimensions of the milk tank<br>\n",
        "H = 20cm, L = 20cm, B = 20cm\n",
        "<br><br>\n",
        "Dimensions of the glass<br>\n",
        "h = 3cm, r = 1cm"
      ],
      "metadata": {
        "id": "eaql38ln13u7"
      }
    },
    {
      "cell_type": "code",
      "source": [
        "# Write your code here\n",
        "import math\n",
        "\n",
        "vol_tank=20*20*20\n",
        "\n",
        "vol_glass=math.pi*1*1*3\n",
        "\n",
        "total_glass = vol_tank / vol_glass\n",
        "\n",
        "print(f\"Total no of glass {int(total_glass)}\")\n"
      ],
      "metadata": {
        "id": "FePZqno74eWv",
        "colab": {
          "base_uri": "https://localhost:8080/"
        },
        "outputId": "800a2d2c-8299-4cbb-d618-f38158008a2c"
      },
      "execution_count": 16,
      "outputs": [
        {
          "output_type": "stream",
          "name": "stdout",
          "text": [
            "Total no of glass 848\n"
          ]
        }
      ]
    }
  ]
}