{
  "nbformat": 4,
  "nbformat_minor": 0,
  "metadata": {
    "colab": {
      "provenance": [],
      "authorship_tag": "ABX9TyM3zIlnHHCWShljxPiRXsPZ",
      "include_colab_link": true
    },
    "kernelspec": {
      "name": "python3",
      "display_name": "Python 3"
    },
    "language_info": {
      "name": "python"
    }
  },
  "cells": [
    {
      "cell_type": "markdown",
      "metadata": {
        "id": "view-in-github",
        "colab_type": "text"
      },
      "source": [
        "<a href=\"https://colab.research.google.com/github/SHIVAM1KUMAR/PythonMLDS/blob/main/Day2SCE.ipynb\" target=\"_parent\"><img src=\"https://colab.research.google.com/assets/colab-badge.svg\" alt=\"Open In Colab\"/></a>"
      ]
    },
    {
      "cell_type": "code",
      "execution_count": 1,
      "metadata": {
        "colab": {
          "base_uri": "https://localhost:8080/"
        },
        "id": "EDJkH-ZZuTBI",
        "outputId": "06f952bd-c6f1-443a-a4e4-bebabc53cb28"
      },
      "outputs": [
        {
          "output_type": "stream",
          "name": "stdout",
          "text": [
            "{'ten': 10, 'twenty': 20, 'thirty': 30}\n"
          ]
        }
      ],
      "source": [
        "keys=['ten','twenty','thirty']\n",
        "values=[10,20,30]\n",
        "\n",
        "res_dic=dict(zip(keys,values))\n",
        "print(res_dic)\n",
        "\n"
      ]
    },
    {
      "cell_type": "code",
      "source": [
        "\n",
        "keys=['ten','twenty','thirty']\n",
        "values=[10,20,30]\n",
        "res_dic=dict()\n",
        "\n",
        "for i in range(len(keys)):\n",
        "    res_dic.update({keys[i]:values[i]})\n",
        "print(res_dic)"
      ],
      "metadata": {
        "colab": {
          "base_uri": "https://localhost:8080/"
        },
        "id": "VgnXIZjru87r",
        "outputId": "2a60d302-2aa2-41f8-e598-ced11112f059"
      },
      "execution_count": 2,
      "outputs": [
        {
          "output_type": "stream",
          "name": "stdout",
          "text": [
            "{'ten': 10, 'twenty': 20, 'thirty': 30}\n"
          ]
        }
      ]
    },
    {
      "cell_type": "code",
      "source": [
        "# prompt: print the values of key'history from sample dictionary\n",
        "\n",
        "sample_dict = {\n",
        "    \"class\": {\n",
        "        \"student\": {\n",
        "            \"name\": \"Mike\",\n",
        "            \"marks\": {\n",
        "                \"physics\": 70,\n",
        "                \"history\": 80\n",
        "            }\n",
        "        }\n",
        "    }\n",
        "}\n",
        "\n",
        "print(sample_dict['class']['student']['marks']['history'])\n"
      ],
      "metadata": {
        "id": "bGbakR273_3o"
      },
      "execution_count": null,
      "outputs": []
    },
    {
      "cell_type": "code",
      "source": [],
      "metadata": {
        "id": "Wlp32dxJ7efw"
      },
      "execution_count": null,
      "outputs": []
    }
  ]
}