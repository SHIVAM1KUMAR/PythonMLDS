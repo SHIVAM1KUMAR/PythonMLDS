{
  "nbformat": 4,
  "nbformat_minor": 0,
  "metadata": {
    "colab": {
      "provenance": [],
      "authorship_tag": "ABX9TyPkMS1yVmjiac925/P7MeqG",
      "include_colab_link": true
    },
    "kernelspec": {
      "name": "python3",
      "display_name": "Python 3"
    },
    "language_info": {
      "name": "python"
    }
  },
  "cells": [
    {
      "cell_type": "markdown",
      "metadata": {
        "id": "view-in-github",
        "colab_type": "text"
      },
      "source": [
        "<a href=\"https://colab.research.google.com/github/SHIVAM1KUMAR/PythonMLDS/blob/main/Copy_of_Day1.ipynb\" target=\"_parent\"><img src=\"https://colab.research.google.com/assets/colab-badge.svg\" alt=\"Open In Colab\"/></a>"
      ]
    },
    {
      "cell_type": "code",
      "execution_count": null,
      "metadata": {
        "colab": {
          "base_uri": "https://localhost:8080/"
        },
        "id": "nywMwDz4ly-B",
        "outputId": "dc8b37ad-9cf3-4e70-a584-078fb16481d0"
      },
      "outputs": [
        {
          "output_type": "stream",
          "name": "stdout",
          "text": [
            "[0, 4, 30, 202, 10]\n"
          ]
        }
      ],
      "source": [
        "#Reverse a number DAY ONE SCE\n",
        "list1=[10,202,30,4,0]\n",
        "list1.reverse()\n",
        "print(list1)"
      ]
    },
    {
      "cell_type": "code",
      "source": [
        "list1=[10,202,30,4,0]\n",
        "list1=list1[::-1]\n",
        "print(list1)"
      ],
      "metadata": {
        "colab": {
          "base_uri": "https://localhost:8080/"
        },
        "id": "rij1FIslmtA0",
        "outputId": "8121693e-24ba-40dd-aaa0-7f4295759fa1"
      },
      "execution_count": 2,
      "outputs": [
        {
          "output_type": "stream",
          "name": "stdout",
          "text": [
            "[0, 4, 30, 202, 10]\n"
          ]
        }
      ]
    },
    {
      "cell_type": "code",
      "source": [
        "#Concatenation\n",
        "list1=[\"M\",\"na\",\"i\",\"Shivam\"]\n",
        "list2=[\"y\",\"me\",\"s\",\"Kumar\"]\n",
        "list3=[i+ j for i,j in zip(list1,list2)]\n",
        "print(list3)"
      ],
      "metadata": {
        "colab": {
          "base_uri": "https://localhost:8080/"
        },
        "id": "llNaZF2unW4q",
        "outputId": "53b2c586-e710-4de8-add2-77fd5f6de6c3"
      },
      "execution_count": 3,
      "outputs": [
        {
          "output_type": "stream",
          "name": "stdout",
          "text": [
            "['My', 'name', 'is', 'ShivamKumar']\n"
          ]
        }
      ]
    },
    {
      "cell_type": "code",
      "source": [
        "#Turn every no.in Square\n",
        "number=[1,2,3,4,5]\n",
        "res=[]\n",
        "for i in number:\n",
        "  res.append(i*i)\n",
        "\n",
        "print(res)\n"
      ],
      "metadata": {
        "colab": {
          "base_uri": "https://localhost:8080/"
        },
        "id": "tHZ1kHzioNR-",
        "outputId": "8345076a-7237-4b36-c695-c0d8fa982398"
      },
      "execution_count": 4,
      "outputs": [
        {
          "output_type": "stream",
          "name": "stdout",
          "text": [
            "[1, 4, 9, 16, 25]\n"
          ]
        }
      ]
    },
    {
      "cell_type": "code",
      "source": [
        "list1=[\"hello\",\"take\"]\n",
        "list2=[\"Dear\",\"sir\"]\n",
        "res=[x+y for x in list1 for y in list2]\n",
        "print(res)"
      ],
      "metadata": {
        "colab": {
          "base_uri": "https://localhost:8080/"
        },
        "id": "RqqajaNKyCir",
        "outputId": "c0b6d8b8-0831-41f2-8064-21499cff7336"
      },
      "execution_count": 5,
      "outputs": [
        {
          "output_type": "stream",
          "name": "stdout",
          "text": [
            "['helloDear', 'hellosir', 'takeDear', 'takesir']\n"
          ]
        }
      ]
    },
    {
      "cell_type": "code",
      "source": [
        "list1=[10,20,30,4]\n",
        "list2=[100,200,300,400]\n",
        "\n",
        "for x,y in zip(list1,list2[::-1]):\n",
        "  print(x,y)"
      ],
      "metadata": {
        "colab": {
          "base_uri": "https://localhost:8080/"
        },
        "id": "T4zsGCFKycQj",
        "outputId": "3906f359-e981-4289-ff82-05cff6067b5e"
      },
      "execution_count": 6,
      "outputs": [
        {
          "output_type": "stream",
          "name": "stdout",
          "text": [
            "10 400\n",
            "20 300\n",
            "30 200\n",
            "4 100\n"
          ]
        }
      ]
    },
    {
      "cell_type": "code",
      "source": [
        "#Add new item to list after a specified item\n",
        "list1=[10,20,[300,400,[5000,6000],500],30,40]\n",
        "list1[2][2].append(7000)\n",
        "print(list1)"
      ],
      "metadata": {
        "colab": {
          "base_uri": "https://localhost:8080/"
        },
        "id": "aQIEFV1Wy1Gv",
        "outputId": "9504a6d9-04a1-41c9-fa6f-309d00b0b9dd"
      },
      "execution_count": 9,
      "outputs": [
        {
          "output_type": "stream",
          "name": "stdout",
          "text": [
            "[10, 20, [300, 400, [5000, 6000, 7000], 500], 30, 40]\n"
          ]
        }
      ]
    },
    {
      "cell_type": "code",
      "source": [
        "# prompt: Extend nested list by adding the sublist\n",
        "\n",
        "list1 = [10, 20, [300, 400, [5000, 6000], 500], 30, 40]\n",
        "sub_list = [7000, 8000]\n",
        "list1[2][2].extend(sub_list)\n",
        "print(list1)\n"
      ],
      "metadata": {
        "colab": {
          "base_uri": "https://localhost:8080/"
        },
        "id": "jn9icbOS1YfW",
        "outputId": "69def175-2094-484e-c1c0-8cda8c5becd6"
      },
      "execution_count": 10,
      "outputs": [
        {
          "output_type": "stream",
          "name": "stdout",
          "text": [
            "[10, 20, [300, 400, [5000, 6000, 7000, 8000], 500], 30, 40]\n"
          ]
        }
      ]
    },
    {
      "cell_type": "code",
      "source": [
        "# prompt: Replace list item with new value if found\n",
        "\n",
        "list1 = [5, 10, 15, 20, 25, 50, 20]\n",
        "\n",
        "# Replace 20 with 200\n",
        "for i in range(len(list1)):\n",
        "  if list1[i] == 20:\n",
        "    list1[i] = 200\n",
        "    break\n",
        "\n",
        "print(list1)\n"
      ],
      "metadata": {
        "colab": {
          "base_uri": "https://localhost:8080/"
        },
        "id": "4AwgtxdZ4FrB",
        "outputId": "92dfc4c8-0e3e-4a4a-a413-3c8a31fcbbdb"
      },
      "execution_count": 11,
      "outputs": [
        {
          "output_type": "stream",
          "name": "stdout",
          "text": [
            "[5, 10, 15, 200, 25, 50, 20]\n"
          ]
        }
      ]
    },
    {
      "cell_type": "code",
      "source": [
        "list1=[5,20,15,20,25,50,20]\n",
        "\n",
        "def remove_value(sample_list,val):\n",
        "  return [i for i in sample_list if i!=val]\n",
        "\n",
        "res=remove_value(list1,20)\n",
        "print(res)"
      ],
      "metadata": {
        "colab": {
          "base_uri": "https://localhost:8080/"
        },
        "id": "zbmXC9iC6F1t",
        "outputId": "5882fe22-59f4-4d75-95da-82400f7504d8"
      },
      "execution_count": 13,
      "outputs": [
        {
          "output_type": "stream",
          "name": "stdout",
          "text": [
            "[5, 15, 25, 50]\n"
          ]
        }
      ]
    }
  ]
}